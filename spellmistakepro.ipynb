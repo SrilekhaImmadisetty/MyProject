{
  "nbformat": 4,
  "nbformat_minor": 0,
  "metadata": {
    "colab": {
      "provenance": [],
      "authorship_tag": "ABX9TyPtvAhO2LBDPKO7lMXKFGys",
      "include_colab_link": true
    },
    "kernelspec": {
      "name": "python3",
      "display_name": "Python 3"
    },
    "language_info": {
      "name": "python"
    }
  },
  "cells": [
    {
      "cell_type": "markdown",
      "metadata": {
        "id": "view-in-github",
        "colab_type": "text"
      },
      "source": [
        "<a href=\"https://colab.research.google.com/github/SrilekhaImmadisetty/MyProject/blob/main/spellmistakepro.ipynb\" target=\"_parent\"><img src=\"https://colab.research.google.com/assets/colab-badge.svg\" alt=\"Open In Colab\"/></a>"
      ]
    },
    {
      "cell_type": "code",
      "source": [
        "!pip install pyspellchecker"
      ],
      "metadata": {
        "colab": {
          "base_uri": "https://localhost:8080/"
        },
        "id": "3kPQbO_T0yK6",
        "outputId": "8467551d-429c-4c55-df7f-567b6fc11a2e"
      },
      "execution_count": 13,
      "outputs": [
        {
          "output_type": "stream",
          "name": "stdout",
          "text": [
            "Requirement already satisfied: pyspellchecker in /usr/local/lib/python3.10/dist-packages (0.8.1)\n"
          ]
        }
      ]
    },
    {
      "cell_type": "code",
      "source": [
        "from spellchecker import SpellChecker"
      ],
      "metadata": {
        "id": "WRhJJlfr1NSd"
      },
      "execution_count": 14,
      "outputs": []
    },
    {
      "cell_type": "code",
      "source": [
        "# Function to check spelling mistakes dynamically using pyspellchecker\n",
        "def check_spelling():\n",
        "    # Initialize the spell checker\n",
        "    spell = SpellChecker()\n",
        "\n",
        "    # Take user input dynamically\n",
        "    user_data = input(\"Enter your text: \")\n",
        "\n",
        "    # Split the input into words\n",
        "    original_words = user_data.split()\n",
        "\n",
        "    # Find misspelled words\n",
        "    misspelled_words = spell.unknown(original_words)\n",
        "\n",
        "    # Create a dictionary to store corrections\n",
        "    corrections = {}\n",
        "\n",
        "    # Correct misspelled words\n",
        "    for word in misspelled_words:\n",
        "        corrections[word] = spell.correction(word)\n",
        "\n",
        "    # Create a corrected version of the text\n",
        "    corrected_words = [corrections.get(word, word) for word in original_words]\n",
        "    corrected_text = ' '.join(corrected_words)\n",
        "\n",
        "    # Output results\n",
        "    print(\"\\nOriginal Text:\", user_data)\n",
        "    print(\"Corrected Text:\", corrected_text)\n",
        "\n",
        "    if corrections:\n",
        "        print(\"Misspelled Words and Corrections:\")\n",
        "        for word, correction in corrections.items():\n",
        "            print(f\"Word: '{word}' -> Suggestion: '{correction}'\")\n",
        "    else:\n",
        "        print(\"No spelling mistakes detected!\")"
      ],
      "metadata": {
        "id": "yRAcYcgy1ULd"
      },
      "execution_count": 15,
      "outputs": []
    },
    {
      "cell_type": "code",
      "source": [
        "# Run the function to take dynamic input\n",
        "check_spelling()"
      ],
      "metadata": {
        "colab": {
          "base_uri": "https://localhost:8080/"
        },
        "id": "jWjAQysx1Z0r",
        "outputId": "7a65e16c-a61b-4cb7-a719-d722a019a2c2"
      },
      "execution_count": 16,
      "outputs": [
        {
          "output_type": "stream",
          "name": "stdout",
          "text": [
            "Enter your text: tihs is new uesr dtaa\n",
            "\n",
            "Original Text: tihs is new uesr dtaa\n",
            "Corrected Text: this is new user data\n",
            "Misspelled Words and Corrections:\n",
            "Word: 'uesr' -> Suggestion: 'user'\n",
            "Word: 'tihs' -> Suggestion: 'this'\n",
            "Word: 'dtaa' -> Suggestion: 'data'\n"
          ]
        }
      ]
    }
  ]
}